{
 "cells": [
  {
   "cell_type": "code",
   "execution_count": 1,
   "metadata": {},
   "outputs": [
    {
     "data": {
      "text/plain": [
       "'/Users/shivaborusu/ML_PRACTICE/DeepLearning/TF_2_Notebooks_and_Data/04-CNNs'"
      ]
     },
     "execution_count": 1,
     "metadata": {},
     "output_type": "execute_result"
    }
   ],
   "source": [
    "pwd"
   ]
  },
  {
   "cell_type": "code",
   "execution_count": 2,
   "metadata": {},
   "outputs": [
    {
     "name": "stdout",
     "output_type": "stream",
     "text": [
      "/Users/shivaborusu/ML_PRACTICE\n"
     ]
    }
   ],
   "source": [
    "cd /Users/shivaborusu/ML_PRACTICE"
   ]
  },
  {
   "cell_type": "code",
   "execution_count": 3,
   "metadata": {},
   "outputs": [
    {
     "name": "stdout",
     "output_type": "stream",
     "text": [
      "/Users/shivaborusu/ML_PRACTICE/Venki_EDA\n"
     ]
    }
   ],
   "source": [
    "cd Venki_EDA"
   ]
  },
  {
   "cell_type": "code",
   "execution_count": 4,
   "metadata": {},
   "outputs": [
    {
     "data": {
      "text/plain": [
       "'/Users/shivaborusu/ML_PRACTICE/Venki_EDA'"
      ]
     },
     "execution_count": 4,
     "metadata": {},
     "output_type": "execute_result"
    }
   ],
   "source": [
    "pwd"
   ]
  },
  {
   "cell_type": "code",
   "execution_count": 5,
   "metadata": {},
   "outputs": [],
   "source": [
    "import pandas as pd"
   ]
  },
  {
   "cell_type": "code",
   "execution_count": 8,
   "metadata": {},
   "outputs": [],
   "source": [
    "df = pd.read_excel(r'Data Analysis Assessment - Tatvic Analytics.xlsx', sheet_name = 'INPUT-Employee Data')"
   ]
  },
  {
   "cell_type": "code",
   "execution_count": 9,
   "metadata": {},
   "outputs": [
    {
     "data": {
      "text/html": [
       "<div>\n",
       "<style scoped>\n",
       "    .dataframe tbody tr th:only-of-type {\n",
       "        vertical-align: middle;\n",
       "    }\n",
       "\n",
       "    .dataframe tbody tr th {\n",
       "        vertical-align: top;\n",
       "    }\n",
       "\n",
       "    .dataframe thead th {\n",
       "        text-align: right;\n",
       "    }\n",
       "</style>\n",
       "<table border=\"1\" class=\"dataframe\">\n",
       "  <thead>\n",
       "    <tr style=\"text-align: right;\">\n",
       "      <th></th>\n",
       "      <th>Employee ID</th>\n",
       "      <th>Total Billable hours</th>\n",
       "      <th>% days absent</th>\n",
       "      <th>Join date</th>\n",
       "      <th>Salary cost per month</th>\n",
       "      <th>Team</th>\n",
       "      <th>Travel cost</th>\n",
       "      <th>Billable rate/per hour</th>\n",
       "      <th># of clients served</th>\n",
       "      <th>Avg. Performance Rating</th>\n",
       "    </tr>\n",
       "  </thead>\n",
       "  <tbody>\n",
       "    <tr>\n",
       "      <td>0</td>\n",
       "      <td>1156</td>\n",
       "      <td>103</td>\n",
       "      <td>6</td>\n",
       "      <td>2018-09-06</td>\n",
       "      <td>126397</td>\n",
       "      <td>CD-OTT/Publisher</td>\n",
       "      <td>16417</td>\n",
       "      <td>4,500</td>\n",
       "      <td>2</td>\n",
       "      <td>2.338822</td>\n",
       "    </tr>\n",
       "    <tr>\n",
       "      <td>1</td>\n",
       "      <td>1123</td>\n",
       "      <td>26</td>\n",
       "      <td>14</td>\n",
       "      <td>2016-04-09</td>\n",
       "      <td>142622</td>\n",
       "      <td>CD-BFSI/Lead Gen</td>\n",
       "      <td>10518</td>\n",
       "      <td>4,500</td>\n",
       "      <td>2</td>\n",
       "      <td>0.259265</td>\n",
       "    </tr>\n",
       "    <tr>\n",
       "      <td>2</td>\n",
       "      <td>1136</td>\n",
       "      <td>63</td>\n",
       "      <td>18</td>\n",
       "      <td>2017-04-01</td>\n",
       "      <td>145333</td>\n",
       "      <td>CD-Ecommerce/Travel</td>\n",
       "      <td>14376</td>\n",
       "      <td>6,500</td>\n",
       "      <td>2</td>\n",
       "      <td>3.425733</td>\n",
       "    </tr>\n",
       "    <tr>\n",
       "      <td>3</td>\n",
       "      <td>1155</td>\n",
       "      <td>32</td>\n",
       "      <td>4</td>\n",
       "      <td>2018-06-09</td>\n",
       "      <td>106927</td>\n",
       "      <td>CD-Ecommerce/Travel</td>\n",
       "      <td>19041</td>\n",
       "      <td>6,500</td>\n",
       "      <td>2</td>\n",
       "      <td>1.351160</td>\n",
       "    </tr>\n",
       "    <tr>\n",
       "      <td>4</td>\n",
       "      <td>1160</td>\n",
       "      <td>136</td>\n",
       "      <td>10</td>\n",
       "      <td>2016-12-22</td>\n",
       "      <td>125193</td>\n",
       "      <td>CD-OTT/Publisher</td>\n",
       "      <td>11644</td>\n",
       "      <td>6,500</td>\n",
       "      <td>2</td>\n",
       "      <td>3.233458</td>\n",
       "    </tr>\n",
       "  </tbody>\n",
       "</table>\n",
       "</div>"
      ],
      "text/plain": [
       "   Employee ID  Total Billable hours  % days absent  Join date  \\\n",
       "0         1156                   103              6 2018-09-06   \n",
       "1         1123                    26             14 2016-04-09   \n",
       "2         1136                    63             18 2017-04-01   \n",
       "3         1155                    32              4 2018-06-09   \n",
       "4         1160                   136             10 2016-12-22   \n",
       "\n",
       "   Salary cost per month                 Team  Travel cost  \\\n",
       "0                 126397     CD-OTT/Publisher        16417   \n",
       "1                 142622     CD-BFSI/Lead Gen        10518   \n",
       "2                 145333  CD-Ecommerce/Travel        14376   \n",
       "3                 106927  CD-Ecommerce/Travel        19041   \n",
       "4                 125193     CD-OTT/Publisher        11644   \n",
       "\n",
       "  Billable rate/per hour  # of clients served  Avg. Performance Rating  \n",
       "0                  4,500                    2                 2.338822  \n",
       "1                  4,500                    2                 0.259265  \n",
       "2                  6,500                    2                 3.425733  \n",
       "3                  6,500                    2                 1.351160  \n",
       "4                  6,500                    2                 3.233458  "
      ]
     },
     "execution_count": 9,
     "metadata": {},
     "output_type": "execute_result"
    }
   ],
   "source": [
    "df.head()"
   ]
  },
  {
   "cell_type": "code",
   "execution_count": 10,
   "metadata": {},
   "outputs": [
    {
     "data": {
      "text/plain": [
       "Index(['Employee ID', 'Total Billable hours', '% days absent', 'Join date',\n",
       "       'Salary cost per month', 'Team', 'Travel cost',\n",
       "       'Billable rate/per hour', '# of clients served',\n",
       "       'Avg. Performance Rating'],\n",
       "      dtype='object')"
      ]
     },
     "execution_count": 10,
     "metadata": {},
     "output_type": "execute_result"
    }
   ],
   "source": [
    "df.columns"
   ]
  },
  {
   "cell_type": "code",
   "execution_count": 11,
   "metadata": {},
   "outputs": [],
   "source": [
    "df1 = df[['Total Billable hours', '% days absent', 'Join date',\n",
    "       'Salary cost per month', 'Team', 'Travel cost',\n",
    "       'Billable rate/per hour', '# of clients served',\n",
    "       'Avg. Performance Rating']]"
   ]
  },
  {
   "cell_type": "code",
   "execution_count": 14,
   "metadata": {},
   "outputs": [
    {
     "data": {
      "text/html": [
       "<div>\n",
       "<style scoped>\n",
       "    .dataframe tbody tr th:only-of-type {\n",
       "        vertical-align: middle;\n",
       "    }\n",
       "\n",
       "    .dataframe tbody tr th {\n",
       "        vertical-align: top;\n",
       "    }\n",
       "\n",
       "    .dataframe thead th {\n",
       "        text-align: right;\n",
       "    }\n",
       "</style>\n",
       "<table border=\"1\" class=\"dataframe\">\n",
       "  <thead>\n",
       "    <tr style=\"text-align: right;\">\n",
       "      <th></th>\n",
       "      <th>count</th>\n",
       "      <th>mean</th>\n",
       "      <th>std</th>\n",
       "      <th>min</th>\n",
       "      <th>25%</th>\n",
       "      <th>50%</th>\n",
       "      <th>75%</th>\n",
       "      <th>max</th>\n",
       "    </tr>\n",
       "  </thead>\n",
       "  <tbody>\n",
       "    <tr>\n",
       "      <td>Total Billable hours</td>\n",
       "      <td>94.0</td>\n",
       "      <td>84.851064</td>\n",
       "      <td>42.697727</td>\n",
       "      <td>18.000000</td>\n",
       "      <td>47.250000</td>\n",
       "      <td>82.000000</td>\n",
       "      <td>119.750000</td>\n",
       "      <td>160.000000</td>\n",
       "    </tr>\n",
       "    <tr>\n",
       "      <td>% days absent</td>\n",
       "      <td>94.0</td>\n",
       "      <td>10.457447</td>\n",
       "      <td>5.383497</td>\n",
       "      <td>1.000000</td>\n",
       "      <td>6.250000</td>\n",
       "      <td>10.000000</td>\n",
       "      <td>15.000000</td>\n",
       "      <td>20.000000</td>\n",
       "    </tr>\n",
       "    <tr>\n",
       "      <td>Salary cost per month</td>\n",
       "      <td>94.0</td>\n",
       "      <td>125717.372340</td>\n",
       "      <td>13608.635456</td>\n",
       "      <td>100042.000000</td>\n",
       "      <td>114147.000000</td>\n",
       "      <td>125575.000000</td>\n",
       "      <td>138355.000000</td>\n",
       "      <td>148950.000000</td>\n",
       "    </tr>\n",
       "    <tr>\n",
       "      <td>Travel cost</td>\n",
       "      <td>94.0</td>\n",
       "      <td>14841.085106</td>\n",
       "      <td>2993.566728</td>\n",
       "      <td>10211.000000</td>\n",
       "      <td>12392.000000</td>\n",
       "      <td>14628.500000</td>\n",
       "      <td>17352.000000</td>\n",
       "      <td>19947.000000</td>\n",
       "    </tr>\n",
       "    <tr>\n",
       "      <td># of clients served</td>\n",
       "      <td>94.0</td>\n",
       "      <td>2.000000</td>\n",
       "      <td>0.000000</td>\n",
       "      <td>2.000000</td>\n",
       "      <td>2.000000</td>\n",
       "      <td>2.000000</td>\n",
       "      <td>2.000000</td>\n",
       "      <td>2.000000</td>\n",
       "    </tr>\n",
       "    <tr>\n",
       "      <td>Avg. Performance Rating</td>\n",
       "      <td>94.0</td>\n",
       "      <td>1.807632</td>\n",
       "      <td>1.226627</td>\n",
       "      <td>0.004315</td>\n",
       "      <td>0.729007</td>\n",
       "      <td>1.757431</td>\n",
       "      <td>2.794362</td>\n",
       "      <td>3.977938</td>\n",
       "    </tr>\n",
       "  </tbody>\n",
       "</table>\n",
       "</div>"
      ],
      "text/plain": [
       "                         count           mean           std            min  \\\n",
       "Total Billable hours      94.0      84.851064     42.697727      18.000000   \n",
       "% days absent             94.0      10.457447      5.383497       1.000000   \n",
       "Salary cost per month     94.0  125717.372340  13608.635456  100042.000000   \n",
       "Travel cost               94.0   14841.085106   2993.566728   10211.000000   \n",
       "# of clients served       94.0       2.000000      0.000000       2.000000   \n",
       "Avg. Performance Rating   94.0       1.807632      1.226627       0.004315   \n",
       "\n",
       "                                   25%            50%            75%  \\\n",
       "Total Billable hours         47.250000      82.000000     119.750000   \n",
       "% days absent                 6.250000      10.000000      15.000000   \n",
       "Salary cost per month    114147.000000  125575.000000  138355.000000   \n",
       "Travel cost               12392.000000   14628.500000   17352.000000   \n",
       "# of clients served           2.000000       2.000000       2.000000   \n",
       "Avg. Performance Rating       0.729007       1.757431       2.794362   \n",
       "\n",
       "                                   max  \n",
       "Total Billable hours        160.000000  \n",
       "% days absent                20.000000  \n",
       "Salary cost per month    148950.000000  \n",
       "Travel cost               19947.000000  \n",
       "# of clients served           2.000000  \n",
       "Avg. Performance Rating       3.977938  "
      ]
     },
     "execution_count": 14,
     "metadata": {},
     "output_type": "execute_result"
    }
   ],
   "source": [
    "df1.describe().transpose()"
   ]
  },
  {
   "cell_type": "code",
   "execution_count": 15,
   "metadata": {},
   "outputs": [],
   "source": [
    "#Total Billable hours, % days absent, seems like is having outliers, because the data is ditributed\n",
    "import seaborn as sns"
   ]
  },
  {
   "cell_type": "code",
   "execution_count": 18,
   "metadata": {},
   "outputs": [
    {
     "data": {
      "text/plain": [
       "<matplotlib.axes._subplots.AxesSubplot at 0x105927cd0>"
      ]
     },
     "execution_count": 18,
     "metadata": {},
     "output_type": "execute_result"
    },
    {
     "data": {
      "image/png": "[encoded data removed]",
      "text/plain": [
       "<Figure size 432x288 with 1 Axes>"
      ]
     },
     "metadata": {
      "needs_background": "light"
     },
     "output_type": "display_data"
    }
   ],
   "source": [
    "df1['Total Billable hours'].plot(kind='hist')"
   ]
  },
  {
   "cell_type": "code",
   "execution_count": 22,
   "metadata": {},
   "outputs": [
    {
     "data": {
      "text/plain": [
       "<matplotlib.axes._subplots.AxesSubplot at 0x11f616610>"
      ]
     },
     "execution_count": 22,
     "metadata": {},
     "output_type": "execute_result"
    },
    {
     "data": {
      "image/png": "[encoded data removed]",
      "text/plain": [
       "<Figure size 432x288 with 1 Axes>"
      ]
     },
     "metadata": {
      "needs_background": "light"
     },
     "output_type": "display_data"
    }
   ],
   "source": [
    "sns.distplot(df1['Total Billable hours'], kde=False)"
   ]
  },
  {
   "cell_type": "code",
   "execution_count": 27,
   "metadata": {},
   "outputs": [
    {
     "data": {
      "text/plain": [
       "<matplotlib.axes._subplots.AxesSubplot at 0x11fae46d0>"
      ]
     },
     "execution_count": 27,
     "metadata": {},
     "output_type": "execute_result"
    },
    {
     "data": {
      "image/png": "[encoded data removed]",
      "text/plain": [
       "<Figure size 432x288 with 1 Axes>"
      ]
     },
     "metadata": {
      "needs_background": "light"
     },
     "output_type": "display_data"
    }
   ],
   "source": [
    "df1['% days absent'].plot(kind='hist')"
   ]
  },
  {
   "cell_type": "code",
   "execution_count": 29,
   "metadata": {},
   "outputs": [
    {
     "name": "stdout",
     "output_type": "stream",
     "text": [
      "<class 'pandas.core.frame.DataFrame'>\n",
      "RangeIndex: 94 entries, 0 to 93\n",
      "Data columns (total 9 columns):\n",
      "Total Billable hours       94 non-null int64\n",
      "% days absent              94 non-null int64\n",
      "Join date                  94 non-null datetime64[ns]\n",
      "Salary cost per month      94 non-null int64\n",
      "Team                       94 non-null object\n",
      "Travel cost                94 non-null int64\n",
      "Billable rate/per hour     94 non-null object\n",
      "# of clients served        94 non-null int64\n",
      "Avg. Performance Rating    94 non-null float64\n",
      "dtypes: datetime64[ns](1), float64(1), int64(5), object(2)\n",
      "memory usage: 6.7+ KB\n"
     ]
    }
   ],
   "source": [
    "#no missing values, no cleaning required\n",
    "df1.info()"
   ]
  },
  {
   "cell_type": "code",
   "execution_count": null,
   "metadata": {},
   "outputs": [],
   "source": []
  }
 ],
 "metadata": {
  "kernelspec": {
   "display_name": "Python 3",
   "language": "python",
   "name": "python3"
  },
  "language_info": {
   "codemirror_mode": {
    "name": "ipython",
    "version": 3
   },
   "file_extension": ".py",
   "mimetype": "text/x-python",
   "name": "python",
   "nbconvert_exporter": "python",
   "pygments_lexer": "ipython3",
   "version": "3.7.4"
  }
 },
 "nbformat": 4,
 "nbformat_minor": 2
}
