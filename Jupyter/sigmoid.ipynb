{
 "cells": [
  {
   "cell_type": "code",
   "execution_count": 1,
   "metadata": {},
   "outputs": [],
   "source": [
    "import math"
   ]
  },
  {
   "cell_type": "code",
   "execution_count": 48,
   "metadata": {},
   "outputs": [],
   "source": [
    "def function(n):\n",
    "    i = 0\n",
    "    lis = []\n",
    "    while (i > n):\n",
    "        lis.append(1/(1+math.exp(-i)))\n",
    "        i -= 1\n",
    "    return lis"
   ]
  },
  {
   "cell_type": "code",
   "execution_count": 56,
   "metadata": {},
   "outputs": [],
   "source": [
    "def function2(n):\n",
    "    i = 0\n",
    "    lis = []\n",
    "    while (i <= n):\n",
    "        lis.append(1/(1+math.exp(-i)))\n",
    "        i += 1\n",
    "    return lis"
   ]
  },
  {
   "cell_type": "code",
   "execution_count": 57,
   "metadata": {},
   "outputs": [],
   "source": [
    "new = function(-20)"
   ]
  },
  {
   "cell_type": "code",
   "execution_count": 58,
   "metadata": {},
   "outputs": [],
   "source": [
    "new2 = function2(20)"
   ]
  },
  {
   "cell_type": "code",
   "execution_count": 69,
   "metadata": {},
   "outputs": [],
   "source": [
    "new3 = new + new2 "
   ]
  },
  {
   "cell_type": "code",
   "execution_count": 9,
   "metadata": {},
   "outputs": [],
   "source": [
    "import seaborn as sns"
   ]
  },
  {
   "cell_type": "code",
   "execution_count": 39,
   "metadata": {},
   "outputs": [],
   "source": [
    "import matplotlib.pyplot as plt"
   ]
  },
  {
   "cell_type": "code",
   "execution_count": 47,
   "metadata": {},
   "outputs": [
    {
     "data": {
      "text/plain": [
       "[<matplotlib.lines.Line2D at 0x12bdf29d0>]"
      ]
     },
     "execution_count": 47,
     "metadata": {},
     "output_type": "execute_result"
    },
    {
     "data": {
      "image/png": "[encoded data removed]",
      "text/plain": [
       "<Figure size 432x288 with 1 Axes>"
      ]
     },
     "metadata": {
      "needs_background": "light"
     },
     "output_type": "display_data"
    }
   ],
   "source": [
    "plt.plot(new)"
   ]
  },
  {
   "cell_type": "code",
   "execution_count": 71,
   "metadata": {},
   "outputs": [],
   "source": [
    "new3.sort()"
   ]
  },
  {
   "cell_type": "code",
   "execution_count": 72,
   "metadata": {},
   "outputs": [
    {
     "data": {
      "text/plain": [
       "[5.602796406145941e-09,\n",
       " 1.522997951276035e-08,\n",
       " 4.1399375473943306e-08,\n",
       " 1.12535162055095e-07,\n",
       " 3.059022269256247e-07,\n",
       " 8.315280276641321e-07,\n",
       " 2.2603242979035746e-06,\n",
       " 6.144174602214718e-06,\n",
       " 1.670142184809518e-05,\n",
       " 4.5397868702434395e-05,\n",
       " 0.00012339457598623172,\n",
       " 0.0003353501304664781,\n",
       " 0.0009110511944006454,\n",
       " 0.0024726231566347743,\n",
       " 0.0066928509242848554,\n",
       " 0.01798620996209156,\n",
       " 0.04742587317756678,\n",
       " 0.11920292202211755,\n",
       " 0.2689414213699951,\n",
       " 0.5,\n",
       " 0.5,\n",
       " 0.7310585786300049,\n",
       " 0.8807970779778823,\n",
       " 0.9525741268224334,\n",
       " 0.9820137900379085,\n",
       " 0.9933071490757153,\n",
       " 0.9975273768433653,\n",
       " 0.9990889488055994,\n",
       " 0.9996646498695336,\n",
       " 0.9998766054240137,\n",
       " 0.9999546021312976,\n",
       " 0.999983298578152,\n",
       " 0.9999938558253978,\n",
       " 0.999997739675702,\n",
       " 0.9999991684719722,\n",
       " 0.999999694097773,\n",
       " 0.9999998874648379,\n",
       " 0.9999999586006244,\n",
       " 0.9999999847700205,\n",
       " 0.9999999943972036,\n",
       " 0.9999999979388463]"
      ]
     },
     "execution_count": 72,
     "metadata": {},
     "output_type": "execute_result"
    }
   ],
   "source": [
    "new3"
   ]
  },
  {
   "cell_type": "code",
   "execution_count": 74,
   "metadata": {},
   "outputs": [
    {
     "data": {
      "text/plain": [
       "[<matplotlib.lines.Line2D at 0x12c4d4f10>]"
      ]
     },
     "execution_count": 74,
     "metadata": {},
     "output_type": "execute_result"
    },
    {
     "data": {
      "image/png": "[encoded data removed]",
      "text/plain": [
       "<Figure size 432x288 with 1 Axes>"
      ]
     },
     "metadata": {
      "needs_background": "light"
     },
     "output_type": "display_data"
    }
   ],
   "source": [
    "plt.plot(new3)"
   ]
  },
  {
   "cell_type": "code",
   "execution_count": 54,
   "metadata": {},
   "outputs": [
    {
     "data": {
      "text/plain": [
       "0.5"
      ]
     },
     "execution_count": 54,
     "metadata": {},
     "output_type": "execute_result"
    }
   ],
   "source": [
    "1/(1+math.exp(-0))"
   ]
  },
  {
   "cell_type": "code",
   "execution_count": 99,
   "metadata": {},
   "outputs": [],
   "source": [
    "ite = iter(new3)"
   ]
  },
  {
   "cell_type": "code",
   "execution_count": 95,
   "metadata": {},
   "outputs": [
    {
     "data": {
      "text/plain": [
       "<list_iterator at 0x12c4fbc50>"
      ]
     },
     "execution_count": 95,
     "metadata": {},
     "output_type": "execute_result"
    }
   ],
   "source": [
    "ite"
   ]
  },
  {
   "cell_type": "code",
   "execution_count": 96,
   "metadata": {},
   "outputs": [
    {
     "data": {
      "text/plain": [
       "5.602796406145941e-09"
      ]
     },
     "execution_count": 96,
     "metadata": {},
     "output_type": "execute_result"
    }
   ],
   "source": [
    "next(ite)"
   ]
  },
  {
   "cell_type": "code",
   "execution_count": 100,
   "metadata": {},
   "outputs": [
    {
     "name": "stdout",
     "output_type": "stream",
     "text": [
      "1.522997951276035e-08\n",
      "1.12535162055095e-07\n",
      "8.315280276641321e-07\n",
      "6.144174602214718e-06\n",
      "4.5397868702434395e-05\n",
      "0.0003353501304664781\n",
      "0.0024726231566347743\n",
      "0.01798620996209156\n",
      "0.11920292202211755\n",
      "0.5\n",
      "0.7310585786300049\n",
      "0.9525741268224334\n",
      "0.9933071490757153\n",
      "0.9990889488055994\n",
      "0.9998766054240137\n",
      "0.999983298578152\n",
      "0.999997739675702\n",
      "0.999999694097773\n",
      "0.9999999586006244\n",
      "0.9999999943972036\n"
     ]
    },
    {
     "ename": "StopIteration",
     "evalue": "",
     "output_type": "error",
     "traceback": [
      "\u001b[0;31m---------------------------------------------------------------------------\u001b[0m",
      "\u001b[0;31mStopIteration\u001b[0m                             Traceback (most recent call last)",
      "\u001b[0;32m<ipython-input-100-623dc37a6e97>\u001b[0m in \u001b[0;36m<module>\u001b[0;34m\u001b[0m\n\u001b[1;32m      1\u001b[0m \u001b[0;32mwhile\u001b[0m \u001b[0mnext\u001b[0m\u001b[0;34m(\u001b[0m\u001b[0mite\u001b[0m\u001b[0;34m)\u001b[0m\u001b[0;34m:\u001b[0m\u001b[0;34m\u001b[0m\u001b[0;34m\u001b[0m\u001b[0m\n\u001b[0;32m----> 2\u001b[0;31m     \u001b[0mprint\u001b[0m\u001b[0;34m(\u001b[0m\u001b[0mnext\u001b[0m\u001b[0;34m(\u001b[0m\u001b[0mite\u001b[0m\u001b[0;34m)\u001b[0m\u001b[0;34m)\u001b[0m\u001b[0;34m\u001b[0m\u001b[0;34m\u001b[0m\u001b[0m\n\u001b[0m",
      "\u001b[0;31mStopIteration\u001b[0m: "
     ]
    }
   ],
   "source": [
    "while next(ite):\n",
    "    print(next(ite))"
   ]
  },
  {
   "cell_type": "code",
   "execution_count": 92,
   "metadata": {},
   "outputs": [
    {
     "ename": "StopIteration",
     "evalue": "",
     "output_type": "error",
     "traceback": [
      "\u001b[0;31m---------------------------------------------------------------------------\u001b[0m",
      "\u001b[0;31mStopIteration\u001b[0m                             Traceback (most recent call last)",
      "\u001b[0;32m<ipython-input-92-1b2c65901abb>\u001b[0m in \u001b[0;36m<module>\u001b[0;34m\u001b[0m\n\u001b[0;32m----> 1\u001b[0;31m \u001b[0mnext\u001b[0m\u001b[0;34m(\u001b[0m\u001b[0mite\u001b[0m\u001b[0;34m)\u001b[0m\u001b[0;34m\u001b[0m\u001b[0;34m\u001b[0m\u001b[0m\n\u001b[0m",
      "\u001b[0;31mStopIteration\u001b[0m: "
     ]
    }
   ],
   "source": [
    "next(ite)"
   ]
  },
  {
   "cell_type": "code",
   "execution_count": 103,
   "metadata": {},
   "outputs": [
    {
     "data": {
      "text/plain": [
       "[5.602796406145941e-09,\n",
       " 1.522997951276035e-08,\n",
       " 4.1399375473943306e-08,\n",
       " 1.12535162055095e-07,\n",
       " 3.059022269256247e-07,\n",
       " 8.315280276641321e-07,\n",
       " 2.2603242979035746e-06,\n",
       " 6.144174602214718e-06,\n",
       " 1.670142184809518e-05,\n",
       " 4.5397868702434395e-05,\n",
       " 0.00012339457598623172,\n",
       " 0.0003353501304664781,\n",
       " 0.0009110511944006454,\n",
       " 0.0024726231566347743,\n",
       " 0.0066928509242848554,\n",
       " 0.01798620996209156,\n",
       " 0.04742587317756678,\n",
       " 0.11920292202211755,\n",
       " 0.2689414213699951,\n",
       " 0.5,\n",
       " 0.5,\n",
       " 0.7310585786300049,\n",
       " 0.8807970779778823,\n",
       " 0.9525741268224334,\n",
       " 0.9820137900379085,\n",
       " 0.9933071490757153,\n",
       " 0.9975273768433653,\n",
       " 0.9990889488055994,\n",
       " 0.9996646498695336,\n",
       " 0.9998766054240137,\n",
       " 0.9999546021312976,\n",
       " 0.999983298578152,\n",
       " 0.9999938558253978,\n",
       " 0.999997739675702,\n",
       " 0.9999991684719722,\n",
       " 0.999999694097773,\n",
       " 0.9999998874648379,\n",
       " 0.9999999586006244,\n",
       " 0.9999999847700205,\n",
       " 0.9999999943972036,\n",
       " 0.9999999979388463]"
      ]
     },
     "execution_count": 103,
     "metadata": {},
     "output_type": "execute_result"
    }
   ],
   "source": [
    "new3"
   ]
  },
  {
   "cell_type": "code",
   "execution_count": 105,
   "metadata": {},
   "outputs": [
    {
     "data": {
      "text/plain": [
       "True"
      ]
     },
     "execution_count": 105,
     "metadata": {},
     "output_type": "execute_result"
    }
   ],
   "source": [
    "bool(new3)"
   ]
  },
  {
   "cell_type": "code",
   "execution_count": 111,
   "metadata": {},
   "outputs": [],
   "source": [
    "new3.reverse()"
   ]
  },
  {
   "cell_type": "code",
   "execution_count": 112,
   "metadata": {},
   "outputs": [
    {
     "data": {
      "text/plain": [
       "[0.9999999979388463,\n",
       " 0.9999999943972036,\n",
       " 0.9999999847700205,\n",
       " 0.9999999586006244,\n",
       " 0.9999998874648379,\n",
       " 0.999999694097773,\n",
       " 0.9999991684719722,\n",
       " 0.999997739675702,\n",
       " 0.9999938558253978,\n",
       " 0.999983298578152,\n",
       " 0.9999546021312976,\n",
       " 0.9998766054240137,\n",
       " 0.9996646498695336,\n",
       " 0.9990889488055994,\n",
       " 0.9975273768433653,\n",
       " 0.9933071490757153,\n",
       " 0.9820137900379085,\n",
       " 0.9525741268224334,\n",
       " 0.8807970779778823,\n",
       " 0.7310585786300049,\n",
       " 0.5,\n",
       " 0.5,\n",
       " 0.2689414213699951,\n",
       " 0.11920292202211755,\n",
       " 0.04742587317756678,\n",
       " 0.01798620996209156,\n",
       " 0.0066928509242848554,\n",
       " 0.0024726231566347743,\n",
       " 0.0009110511944006454,\n",
       " 0.0003353501304664781,\n",
       " 0.00012339457598623172,\n",
       " 4.5397868702434395e-05,\n",
       " 1.670142184809518e-05,\n",
       " 6.144174602214718e-06,\n",
       " 2.2603242979035746e-06,\n",
       " 8.315280276641321e-07,\n",
       " 3.059022269256247e-07,\n",
       " 1.12535162055095e-07,\n",
       " 4.1399375473943306e-08,\n",
       " 1.522997951276035e-08,\n",
       " 5.602796406145941e-09]"
      ]
     },
     "execution_count": 112,
     "metadata": {},
     "output_type": "execute_result"
    }
   ],
   "source": [
    "new3"
   ]
  },
  {
   "cell_type": "code",
   "execution_count": 113,
   "metadata": {},
   "outputs": [],
   "source": [
    "rev = reversed(new3)"
   ]
  },
  {
   "cell_type": "code",
   "execution_count": 114,
   "metadata": {},
   "outputs": [
    {
     "data": {
      "text/plain": [
       "5.602796406145941e-09"
      ]
     },
     "execution_count": 114,
     "metadata": {},
     "output_type": "execute_result"
    }
   ],
   "source": [
    "next(rev)"
   ]
  },
  {
   "cell_type": "code",
   "execution_count": 115,
   "metadata": {},
   "outputs": [],
   "source": [
    "import docker"
   ]
  },
  {
   "cell_type": "code",
   "execution_count": 116,
   "metadata": {},
   "outputs": [
    {
     "name": "stdout",
     "output_type": "stream",
     "text": [
      "Help on package docker:\n",
      "\n",
      "NAME\n",
      "    docker - # flake8: noqa\n",
      "\n",
      "PACKAGE CONTENTS\n",
      "    api (package)\n",
      "    auth\n",
      "    client\n",
      "    constants\n",
      "    context (package)\n",
      "    credentials (package)\n",
      "    errors\n",
      "    models (package)\n",
      "    tls\n",
      "    transport (package)\n",
      "    types (package)\n",
      "    utils (package)\n",
      "    version\n",
      "\n",
      "DATA\n",
      "    __title__ = 'docker'\n",
      "    version = '4.2.0'\n",
      "    version_info = (4, 2, 0)\n",
      "\n",
      "VERSION\n",
      "    4.2.0\n",
      "\n",
      "FILE\n",
      "    /Users/shivaborusu/Applications/anaconda3/lib/python3.7/site-packages/docker/__init__.py\n",
      "\n",
      "\n"
     ]
    }
   ],
   "source": [
    "help(docker)"
   ]
  },
  {
   "cell_type": "code",
   "execution_count": 117,
   "metadata": {},
   "outputs": [],
   "source": [
    "import docker.api"
   ]
  },
  {
   "cell_type": "code",
   "execution_count": 118,
   "metadata": {},
   "outputs": [
    {
     "name": "stdout",
     "output_type": "stream",
     "text": [
      "Help on package docker.api in docker:\n",
      "\n",
      "NAME\n",
      "    docker.api - # flake8: noqa\n",
      "\n",
      "PACKAGE CONTENTS\n",
      "    build\n",
      "    client\n",
      "    config\n",
      "    container\n",
      "    daemon\n",
      "    exec_api\n",
      "    image\n",
      "    network\n",
      "    plugin\n",
      "    secret\n",
      "    service\n",
      "    swarm\n",
      "    volume\n",
      "\n",
      "FILE\n",
      "    /Users/shivaborusu/Applications/anaconda3/lib/python3.7/site-packages/docker/api/__init__.py\n",
      "\n",
      "\n"
     ]
    }
   ],
   "source": [
    "help(docker.api)"
   ]
  },
  {
   "cell_type": "code",
   "execution_count": null,
   "metadata": {},
   "outputs": [],
   "source": []
  }
 ],
 "metadata": {
  "kernelspec": {
   "display_name": "Python 3",
   "language": "python",
   "name": "python3"
  },
  "language_info": {
   "codemirror_mode": {
    "name": "ipython",
    "version": 3
   },
   "file_extension": ".py",
   "mimetype": "text/x-python",
   "name": "python",
   "nbconvert_exporter": "python",
   "pygments_lexer": "ipython3",
   "version": "3.7.4"
  }
 },
 "nbformat": 4,
 "nbformat_minor": 2
}
