{
 "cells": [
  {
   "cell_type": "code",
   "execution_count": 21,
   "metadata": {},
   "outputs": [],
   "source": [
    "choices = {\"Rock\":0, \"Paper\":1, \"Scissors\":2}"
   ]
  },
  {
   "cell_type": "code",
   "execution_count": 49,
   "metadata": {},
   "outputs": [
    {
     "name": "stdout",
     "output_type": "stream",
     "text": [
      "Enter player 1 chooice 1. Rock \t 2.Paper \t 3.ScissorsRock\n"
     ]
    }
   ],
   "source": [
    "player1 = input(\"Enter player 1 chooice 1. Rock \\t 2.Paper \\t 3.Scissors\")"
   ]
  },
  {
   "cell_type": "code",
   "execution_count": 50,
   "metadata": {},
   "outputs": [
    {
     "name": "stdout",
     "output_type": "stream",
     "text": [
      "Enter player 2 chooice 1. Rock \t 2.Paper \t 3.ScissorsScissors\n"
     ]
    }
   ],
   "source": [
    "player2 = input(\"Enter player 2 chooice 1. Rock \\t 2.Paper \\t 3.Scissors\")"
   ]
  },
  {
   "cell_type": "code",
   "execution_count": 47,
   "metadata": {},
   "outputs": [],
   "source": [
    "#Player choices R-0, P-1, S-2, Rows for Player 1, Columns for Player 2\n",
    "lookup_matrix = [[0,2,1],\n",
    "                 [1,0,2],\n",
    "                 [2,1,0]]"
   ]
  },
  {
   "cell_type": "code",
   "execution_count": 35,
   "metadata": {},
   "outputs": [],
   "source": [
    "outputs = [\"It's a tie\", \"Player 1 wins\", \"Player 2 wins\"]"
   ]
  },
  {
   "cell_type": "code",
   "execution_count": 51,
   "metadata": {},
   "outputs": [
    {
     "data": {
      "text/plain": [
       "'Player 1 wins'"
      ]
     },
     "execution_count": 51,
     "metadata": {},
     "output_type": "execute_result"
    }
   ],
   "source": [
    "outputs[lookup_matrix[choices[player1]][choices[player2]]]"
   ]
  }
 ],
 "metadata": {
  "kernelspec": {
   "display_name": "Python 3",
   "language": "python",
   "name": "python3"
  },
  "language_info": {
   "codemirror_mode": {
    "name": "ipython",
    "version": 3
   },
   "file_extension": ".py",
   "mimetype": "text/x-python",
   "name": "python",
   "nbconvert_exporter": "python",
   "pygments_lexer": "ipython3",
   "version": "3.7.4"
  }
 },
 "nbformat": 4,
 "nbformat_minor": 2
}
